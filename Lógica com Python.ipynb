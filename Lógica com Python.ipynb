{
  "nbformat": 4,
  "nbformat_minor": 0,
  "metadata": {
    "colab": {
      "provenance": []
    },
    "kernelspec": {
      "name": "python3",
      "display_name": "Python 3"
    },
    "language_info": {
      "name": "python"
    }
  },
  "cells": [
    {
      "cell_type": "markdown",
      "source": [
        "# Lógica de progamação com python"
      ],
      "metadata": {
        "id": "VhDlMhqDPhNb"
      }
    },
    {
      "cell_type": "code",
      "source": [
        "nome = \"Gabriel\""
      ],
      "metadata": {
        "id": "CY-FESlUP7vi"
      },
      "execution_count": null,
      "outputs": []
    },
    {
      "cell_type": "code",
      "source": [
        "idade = 19"
      ],
      "metadata": {
        "id": "0F-ih0e9P4bD"
      },
      "execution_count": null,
      "outputs": []
    },
    {
      "cell_type": "code",
      "execution_count": null,
      "metadata": {
        "colab": {
          "base_uri": "https://localhost:8080/"
        },
        "id": "491FUhV9IfdN",
        "outputId": "77fece27-f1ff-4f2d-86fe-f1f2b1f9850e"
      },
      "outputs": [
        {
          "output_type": "stream",
          "name": "stdout",
          "text": [
            "Seu nome é Gabriel e sua idade é 19 anos\n"
          ]
        }
      ],
      "source": [
        "print( f\"Seu nome é {nome} e sua idade é {idade} anos\")"
      ]
    },
    {
      "cell_type": "markdown",
      "source": [
        "# Criando minha Primeira Função\n"
      ],
      "metadata": {
        "id": "hjvUKNHCPTUV"
      }
    },
    {
      "cell_type": "code",
      "source": [
        "def saudacao():\n",
        "  nome = input(\"Qual seu nome? \")\n",
        "  print(f'Olá {nome}')"
      ],
      "metadata": {
        "id": "CJPLfbXIPptb"
      },
      "execution_count": null,
      "outputs": []
    },
    {
      "cell_type": "code",
      "source": [
        "saudacao()"
      ],
      "metadata": {
        "colab": {
          "base_uri": "https://localhost:8080/"
        },
        "id": "6-vtcZ6nQqXc",
        "outputId": "f7d3b3d4-cb27-4820-a9fa-b3e82311df41"
      },
      "execution_count": null,
      "outputs": [
        {
          "output_type": "stream",
          "name": "stdout",
          "text": [
            "Qual seu nome?Gabriel\n",
            "Olá Gabriel\n"
          ]
        }
      ]
    },
    {
      "cell_type": "code",
      "source": [
        "def nomeCompleto():\n",
        "  nome = input(\"Qual seu primeiro nome? \")\n",
        "  sobrenome = input(\"Qual seu sobrenome? \")\n",
        "  #nome_inteiro = print(f\"Seu completo é {nome} {sobrenome}\")\n",
        "  nome_inteiro = nome + ' ' + sobrenome\n",
        "  print(nome_inteiro)"
      ],
      "metadata": {
        "id": "Cr8i-J0LWBrT"
      },
      "execution_count": null,
      "outputs": []
    },
    {
      "cell_type": "code",
      "source": [
        "nomeCompleto()"
      ],
      "metadata": {
        "colab": {
          "base_uri": "https://localhost:8080/"
        },
        "id": "ZxrQ4TyHWmgr",
        "outputId": "7c4b256c-9195-4928-942a-9fab3d77ea92"
      },
      "execution_count": null,
      "outputs": [
        {
          "output_type": "stream",
          "name": "stdout",
          "text": [
            "Qual seu primeiro nome? 121212\n",
            "Qual seu sobrenome? 1'31313\n",
            "121212 1'31313\n"
          ]
        }
      ]
    },
    {
      "cell_type": "markdown",
      "source": [
        "# Parâmetros"
      ],
      "metadata": {
        "id": "Mb334HzLe-yK"
      }
    },
    {
      "cell_type": "code",
      "source": [
        "nome = \"Gabriel\""
      ],
      "metadata": {
        "id": "66w86xqqfJ_A"
      },
      "execution_count": null,
      "outputs": []
    },
    {
      "cell_type": "code",
      "source": [
        "def SaudacaoComParametro(nome_da_pessoa) :\n",
        "  print(f\"Olá {nome_da_pessoa}\")"
      ],
      "metadata": {
        "id": "bOxjkSHAegDS"
      },
      "execution_count": null,
      "outputs": []
    },
    {
      "cell_type": "code",
      "source": [
        "SaudacaoComParametro(nome)"
      ],
      "metadata": {
        "colab": {
          "base_uri": "https://localhost:8080/"
        },
        "id": "M5LHFkSCewQp",
        "outputId": "b9b13650-3097-4f02-daa9-e5ca74292afd"
      },
      "execution_count": null,
      "outputs": [
        {
          "output_type": "stream",
          "name": "stdout",
          "text": [
            "Olá Gabriel\n"
          ]
        }
      ]
    },
    {
      "cell_type": "markdown",
      "source": [
        "# Condicional"
      ],
      "metadata": {
        "id": "w7L4nRVOgto5"
      }
    },
    {
      "cell_type": "code",
      "source": [
        "idade = 20;\n",
        "\n",
        "def verificaSePodeDirigir() :\n",
        "  if idade >= 18:\n",
        "    print(\"Voçê pode dirigir!\")\n",
        "  else:\n",
        "    print(\" Voçê não pode dirigir!!\")\n",
        "\n",
        "verificaSePodeDirigir()"
      ],
      "metadata": {
        "colab": {
          "base_uri": "https://localhost:8080/"
        },
        "id": "KRtYMRLVgwgJ",
        "outputId": "70a3c3eb-c2b2-40be-b43f-2e124042f710"
      },
      "execution_count": null,
      "outputs": [
        {
          "output_type": "stream",
          "name": "stdout",
          "text": [
            "Voçê pode dirigir!\n"
          ]
        }
      ]
    },
    {
      "cell_type": "markdown",
      "source": [
        "# Convertendo tipo para inteiro"
      ],
      "metadata": {
        "id": "YhrkJahylXXp"
      }
    },
    {
      "cell_type": "code",
      "source": [
        "def verificaSePodeDirigir2():\n",
        "\n",
        "  idade = input(\"Qual sua idade: \")\n",
        "  idade = int(idade)\n",
        "\n",
        "  if idade >= 18:\n",
        "    print(\"Voçê pode dirigir!\")\n",
        "  else:\n",
        "    print(\" Voçê não pode dirigir!!\")\n",
        "\n",
        "verificaSePodeDirigir2()"
      ],
      "metadata": {
        "colab": {
          "base_uri": "https://localhost:8080/"
        },
        "id": "zpbWWZCtjJ-I",
        "outputId": "76cbfa79-1a90-4239-a926-a9b2243b5ecd"
      },
      "execution_count": null,
      "outputs": [
        {
          "output_type": "stream",
          "name": "stdout",
          "text": [
            "Qual sua idade: 12\n",
            " Voçê não pode dirigir!!\n"
          ]
        }
      ]
    },
    {
      "cell_type": "code",
      "source": [
        "def velocidade(espaco, tempo):\n",
        "  v = espaco / tempo\n",
        "  print(f\"Velocidade: {v} m/s\")\n",
        "\n",
        "  velocidade(100,20)"
      ],
      "metadata": {
        "id": "pMnTeqLql9L4"
      },
      "execution_count": null,
      "outputs": []
    },
    {
      "cell_type": "markdown",
      "source": [
        "# Listas"
      ],
      "metadata": {
        "id": "UmmBukTObIOI"
      }
    },
    {
      "cell_type": "code",
      "source": [
        "idade = 22\n",
        "idade"
      ],
      "metadata": {
        "colab": {
          "base_uri": "https://localhost:8080/"
        },
        "id": "m14DO_XBbFDh",
        "outputId": "7a7f5fd3-e210-4d8c-c973-230a903464c9"
      },
      "execution_count": null,
      "outputs": [
        {
          "output_type": "execute_result",
          "data": {
            "text/plain": [
              "22"
            ]
          },
          "metadata": {},
          "execution_count": 2
        }
      ]
    },
    {
      "cell_type": "code",
      "source": [
        "type(idade)"
      ],
      "metadata": {
        "colab": {
          "base_uri": "https://localhost:8080/"
        },
        "id": "erAWbhn7bNVo",
        "outputId": "4abb122f-7776-4a32-9d03-ee73dc9862f3"
      },
      "execution_count": null,
      "outputs": [
        {
          "output_type": "execute_result",
          "data": {
            "text/plain": [
              "int"
            ]
          },
          "metadata": {},
          "execution_count": 3
        }
      ]
    },
    {
      "cell_type": "code",
      "source": [
        "nome = \"Gabriel\"\n",
        "type(nome)"
      ],
      "metadata": {
        "colab": {
          "base_uri": "https://localhost:8080/"
        },
        "id": "ZvdS9uhDbSem",
        "outputId": "d591d1e3-fbcd-46e7-d788-d5781bbd4063"
      },
      "execution_count": null,
      "outputs": [
        {
          "output_type": "execute_result",
          "data": {
            "text/plain": [
              "str"
            ]
          },
          "metadata": {},
          "execution_count": 4
        }
      ]
    },
    {
      "cell_type": "code",
      "source": [
        "idades = [18, 22, 15, 50]\n",
        "type(idades)"
      ],
      "metadata": {
        "colab": {
          "base_uri": "https://localhost:8080/"
        },
        "id": "mMy3NcZIbX9o",
        "outputId": "91668858-3a52-4a22-de3d-0e3dcf98ff12"
      },
      "execution_count": null,
      "outputs": [
        {
          "output_type": "execute_result",
          "data": {
            "text/plain": [
              "list"
            ]
          },
          "metadata": {},
          "execution_count": 31
        }
      ]
    },
    {
      "cell_type": "code",
      "source": [
        "idades[2]"
      ],
      "metadata": {
        "colab": {
          "base_uri": "https://localhost:8080/"
        },
        "id": "RVKxO5Dqbh2n",
        "outputId": "bdbfa745-2b83-4440-9556-5363b3d9ed38"
      },
      "execution_count": null,
      "outputs": [
        {
          "output_type": "execute_result",
          "data": {
            "text/plain": [
              "15"
            ]
          },
          "metadata": {},
          "execution_count": 30
        }
      ]
    },
    {
      "cell_type": "code",
      "source": [
        "idades = [18,22,15,50]\n",
        "#         0  1  2  3\n",
        "#         0 -3 -2 -1"
      ],
      "metadata": {
        "id": "AMPRm55Tfu0-"
      },
      "execution_count": null,
      "outputs": []
    },
    {
      "cell_type": "code",
      "source": [
        "idades [0:3]"
      ],
      "metadata": {
        "colab": {
          "base_uri": "https://localhost:8080/"
        },
        "id": "v4YFZByFf7KP",
        "outputId": "624f943d-f12b-425b-9db0-1be742b2fcf4"
      },
      "execution_count": null,
      "outputs": [
        {
          "output_type": "execute_result",
          "data": {
            "text/plain": [
              "[18, 22, 15]"
            ]
          },
          "metadata": {},
          "execution_count": 29
        }
      ]
    },
    {
      "cell_type": "code",
      "source": [
        "idades[1:]"
      ],
      "metadata": {
        "colab": {
          "base_uri": "https://localhost:8080/"
        },
        "id": "218KWxFAgW_u",
        "outputId": "2ecdfc80-fc14-4f8d-b206-c0411fe195da"
      },
      "execution_count": null,
      "outputs": [
        {
          "output_type": "execute_result",
          "data": {
            "text/plain": [
              "[22, 15, 50]"
            ]
          },
          "metadata": {},
          "execution_count": 9
        }
      ]
    },
    {
      "cell_type": "code",
      "source": [
        "idades[-1]"
      ],
      "metadata": {
        "colab": {
          "base_uri": "https://localhost:8080/"
        },
        "id": "-T4NhvJJgbFl",
        "outputId": "e4a47a88-a50e-48d6-8241-2703659b1489"
      },
      "execution_count": null,
      "outputs": [
        {
          "output_type": "execute_result",
          "data": {
            "text/plain": [
              "50"
            ]
          },
          "metadata": {},
          "execution_count": 12
        }
      ]
    },
    {
      "cell_type": "code",
      "source": [
        "idades[-2]"
      ],
      "metadata": {
        "colab": {
          "base_uri": "https://localhost:8080/"
        },
        "id": "ZR_ncZ67iMcO",
        "outputId": "e5d1d8a1-1050-48b4-fcc3-87af3510a216"
      },
      "execution_count": null,
      "outputs": [
        {
          "output_type": "execute_result",
          "data": {
            "text/plain": [
              "15"
            ]
          },
          "metadata": {},
          "execution_count": 13
        }
      ]
    },
    {
      "cell_type": "markdown",
      "source": [
        "# Laços e Loops"
      ],
      "metadata": {
        "id": "N8ZnKOaViRTf"
      }
    },
    {
      "cell_type": "code",
      "source": [
        "idades"
      ],
      "metadata": {
        "colab": {
          "base_uri": "https://localhost:8080/"
        },
        "id": "yVNeiECsiXY_",
        "outputId": "0370deb5-cb8f-4e99-f809-73c95ae50fa4"
      },
      "execution_count": null,
      "outputs": [
        {
          "output_type": "execute_result",
          "data": {
            "text/plain": [
              "[18, 22, 15, 50]"
            ]
          },
          "metadata": {},
          "execution_count": 32
        }
      ]
    },
    {
      "cell_type": "code",
      "source": [
        "# for fora da função\n",
        "\n",
        "def verificaSePodeDirigir(idade) :\n",
        "  if idade >= 18:\n",
        "    print(f\"{idade} anos de idade tem permissão para dirigir\")\n",
        "  else:\n",
        "    print(f\"{idade} anos de idade, não tem permissão para dirigir!\")\n",
        "\n",
        "for idade in idades:\n",
        "    verificaSePodeDirigir(idade)"
      ],
      "metadata": {
        "colab": {
          "base_uri": "https://localhost:8080/"
        },
        "id": "70fdc0xUiiUX",
        "outputId": "503ff361-0e49-414e-f38e-9556adb768bb"
      },
      "execution_count": null,
      "outputs": [
        {
          "output_type": "stream",
          "name": "stdout",
          "text": [
            "18 anos de idade tem permissão para dirigir\n",
            "22 anos de idade tem permissão para dirigir\n",
            "15 anos de idade, não tem permissão para dirigir!\n",
            "50 anos de idade tem permissão para dirigir\n"
          ]
        }
      ]
    },
    {
      "cell_type": "code",
      "source": [
        "#for dentro da função\n",
        "\n",
        "def verifica_se_pode_dirigir(idades):\n",
        "\n",
        "  for idade in idades:\n",
        "    if idade >= 18:\n",
        "      print(f\"{idade} anos de idade tem permissão para dirigir\")\n",
        "  else:\n",
        "    print(f\"{idade} anos de idade, não tem permissão para dirigir!\")\n",
        "\n",
        "verifica_se_pode_dirigir(idades)"
      ],
      "metadata": {
        "colab": {
          "base_uri": "https://localhost:8080/"
        },
        "id": "fk7Waj9kkpPV",
        "outputId": "a46be04b-cfc6-4ada-88db-edd45c866290"
      },
      "execution_count": null,
      "outputs": [
        {
          "output_type": "stream",
          "name": "stdout",
          "text": [
            "18 anos de idade tem permissão para dirigir\n",
            "22 anos de idade tem permissão para dirigir\n",
            "50 anos de idade tem permissão para dirigir\n",
            "50 anos de idade, não tem permissão para dirigir!\n"
          ]
        }
      ]
    },
    {
      "cell_type": "markdown",
      "source": [
        "# Booleano"
      ],
      "metadata": {
        "id": "BzBvPn2Pp1he"
      }
    },
    {
      "cell_type": "code",
      "source": [
        "idade = 18\n",
        "idade >= 18"
      ],
      "metadata": {
        "colab": {
          "base_uri": "https://localhost:8080/"
        },
        "id": "_1dUQqF6pzh8",
        "outputId": "ca34931b-d0f2-47ec-cf38-ff9df4fa8161"
      },
      "execution_count": null,
      "outputs": [
        {
          "output_type": "execute_result",
          "data": {
            "text/plain": [
              "True"
            ]
          },
          "metadata": {},
          "execution_count": 38
        }
      ]
    },
    {
      "cell_type": "code",
      "source": [
        "idade = 15\n",
        "idade >= 18"
      ],
      "metadata": {
        "colab": {
          "base_uri": "https://localhost:8080/"
        },
        "id": "174o8_l6p8uM",
        "outputId": "19047ce8-85ca-4ff2-dd12-ec0421bbcd3b"
      },
      "execution_count": null,
      "outputs": [
        {
          "output_type": "execute_result",
          "data": {
            "text/plain": [
              "False"
            ]
          },
          "metadata": {},
          "execution_count": 39
        }
      ]
    },
    {
      "cell_type": "code",
      "source": [
        "permissoes = []\n",
        "idades = [20,14,40]\n",
        "\n",
        "def verificaSePodeDirigir3(idades,permissoes):\n",
        "  for idade in idades:\n",
        "    if idade >= 18:\n",
        "      permissoes.append(True)\n",
        "    else:\n",
        "      permissoes.append(False)\n",
        "\n",
        "verificaSePodeDirigir3(idades,permissoes)"
      ],
      "metadata": {
        "id": "-a2pxwD6qGHc"
      },
      "execution_count": null,
      "outputs": []
    },
    {
      "cell_type": "code",
      "source": [
        "permissoes"
      ],
      "metadata": {
        "colab": {
          "base_uri": "https://localhost:8080/"
        },
        "id": "M9_bCG2fqp_8",
        "outputId": "e99aa7c1-7f3c-4127-daa2-0be98ec80c19"
      },
      "execution_count": null,
      "outputs": [
        {
          "output_type": "execute_result",
          "data": {
            "text/plain": [
              "[True, False, True]"
            ]
          },
          "metadata": {},
          "execution_count": 44
        }
      ]
    },
    {
      "cell_type": "code",
      "source": [
        "for permissao in permissoes:\n",
        "  if permissao == True:\n",
        "    print(\"Tem permissão para dirigir\")\n",
        "  else:\n",
        "    print(\"Não tem permissão para dirigir\")"
      ],
      "metadata": {
        "colab": {
          "base_uri": "https://localhost:8080/"
        },
        "id": "5VZlfQWWqz9s",
        "outputId": "4b59d525-606d-48e6-dc0f-9e082232c22d"
      },
      "execution_count": null,
      "outputs": [
        {
          "output_type": "stream",
          "name": "stdout",
          "text": [
            "Tem permissão para dirigir\n",
            "Não tem permissão para dirigir\n",
            "Tem permissão para dirigir\n"
          ]
        }
      ]
    },
    {
      "cell_type": "code",
      "source": [
        "pi = 3.14\n",
        "type(pi)"
      ],
      "metadata": {
        "id": "DspOwqHhvrOy",
        "outputId": "bf9d6449-b4c1-4651-df7f-463382761e0b",
        "colab": {
          "base_uri": "https://localhost:8080/"
        }
      },
      "execution_count": null,
      "outputs": [
        {
          "output_type": "execute_result",
          "data": {
            "text/plain": [
              "float"
            ]
          },
          "metadata": {},
          "execution_count": 45
        }
      ]
    },
    {
      "cell_type": "markdown",
      "source": [
        "# **Tipos em uma lista**"
      ],
      "metadata": {
        "id": "rlTP5lQI267c"
      }
    },
    {
      "cell_type": "code",
      "source": [
        "lista = ['Guilherme', 28, True, '18', 'Gabriel']\n",
        "\n",
        "for elemento in lista:\n",
        "  print(f'O elemento {elemento} é do tipo: ',type(elemento))"
      ],
      "metadata": {
        "colab": {
          "base_uri": "https://localhost:8080/"
        },
        "id": "ESShMOFM2298",
        "outputId": "7f1d3668-160d-4f84-c993-682b1826c7fb"
      },
      "execution_count": null,
      "outputs": [
        {
          "output_type": "stream",
          "name": "stdout",
          "text": [
            "O elemento Guilherme é do tipo:  <class 'str'>\n",
            "O elemento 28 é do tipo:  <class 'int'>\n",
            "O elemento True é do tipo:  <class 'bool'>\n",
            "O elemento 18 é do tipo:  <class 'str'>\n",
            "O elemento Gabriel é do tipo:  <class 'str'>\n"
          ]
        }
      ]
    },
    {
      "cell_type": "markdown",
      "source": [
        "# Imports"
      ],
      "metadata": {
        "id": "o4ZlJ0BRB_lk"
      }
    },
    {
      "cell_type": "code",
      "source": [
        "from random import randrange, seed #IMPORTANDO BIBLIOTECA PYTHON RANDOM COM OS MÓDULOS \"RANDRANGE\" E \"SEED\""
      ],
      "metadata": {
        "id": "OORv7aEJCCWb"
      },
      "execution_count": null,
      "outputs": []
    },
    {
      "cell_type": "code",
      "source": [
        "seed(11)"
      ],
      "metadata": {
        "id": "p8yAzVVfby7F"
      },
      "execution_count": null,
      "outputs": []
    },
    {
      "cell_type": "code",
      "source": [
        "randrange(0,11) #IRÁ GERAR UM NUMERO ALEATORIO TODA VEZ QUE FOR EXECUTADO"
      ],
      "metadata": {
        "colab": {
          "base_uri": "https://localhost:8080/"
        },
        "id": "tumoi9ToCjJi",
        "outputId": "195bd683-36be-4659-dce8-2a773413265c"
      },
      "execution_count": null,
      "outputs": [
        {
          "output_type": "execute_result",
          "data": {
            "text/plain": [
              "8"
            ]
          },
          "metadata": {},
          "execution_count": 39
        }
      ]
    },
    {
      "cell_type": "code",
      "source": [
        "notas_matematica = []\n",
        "\n",
        "for notas in range(8) : #IRÁ GERAR O LIMITE DE 8 NOTAS\n",
        "  notas_matematica.append(randrange(0,11))\n",
        "\n",
        "notas_matematica"
      ],
      "metadata": {
        "id": "u7nHCebIDIEj",
        "colab": {
          "base_uri": "https://localhost:8080/"
        },
        "outputId": "120636f3-150c-4493-bd2c-8d32ed0326dd"
      },
      "execution_count": null,
      "outputs": [
        {
          "output_type": "execute_result",
          "data": {
            "text/plain": [
              "[8, 5, 4, 10, 1, 9, 9, 8]"
            ]
          },
          "metadata": {},
          "execution_count": 44
        }
      ]
    },
    {
      "cell_type": "code",
      "source": [
        "len(notas_matematica) #O metodo Len irá contar todos os elemementos mantidos em notas_matematica"
      ],
      "metadata": {
        "colab": {
          "base_uri": "https://localhost:8080/"
        },
        "id": "UZopHNY3bCG1",
        "outputId": "eb52430c-d8fb-4264-b754-7fe08697632a"
      },
      "execution_count": null,
      "outputs": [
        {
          "output_type": "execute_result",
          "data": {
            "text/plain": [
              "8"
            ]
          },
          "metadata": {},
          "execution_count": 41
        }
      ]
    },
    {
      "cell_type": "markdown",
      "source": [
        "# Atividades"
      ],
      "metadata": {
        "id": "jdRGC7obd7tE"
      }
    },
    {
      "cell_type": "code",
      "source": [
        "from random import randrange, seed"
      ],
      "metadata": {
        "id": "mPpjMSzId_3u"
      },
      "execution_count": null,
      "outputs": []
    },
    {
      "cell_type": "code",
      "source": [
        "seed(10)"
      ],
      "metadata": {
        "id": "Qf-COtthedHD"
      },
      "execution_count": null,
      "outputs": []
    },
    {
      "cell_type": "code",
      "source": [
        "randrange(0,11)"
      ],
      "metadata": {
        "colab": {
          "base_uri": "https://localhost:8080/"
        },
        "id": "694pI71negS0",
        "outputId": "a1138dd5-f99b-4a6b-9bbd-f981a88cb74f"
      },
      "execution_count": null,
      "outputs": [
        {
          "output_type": "execute_result",
          "data": {
            "text/plain": [
              "9"
            ]
          },
          "metadata": {},
          "execution_count": 4
        }
      ]
    },
    {
      "cell_type": "code",
      "source": [
        "notas_lista=[]\n",
        "\n",
        "for notas in range(8) :\n",
        "    notas_lista.append(randrange(0,11))\n",
        "\n",
        "notas_lista"
      ],
      "metadata": {
        "colab": {
          "base_uri": "https://localhost:8080/"
        },
        "id": "npdVR5BAe407",
        "outputId": "2c1fc56a-55e4-4401-89f9-225be7408aa6"
      },
      "execution_count": null,
      "outputs": [
        {
          "output_type": "execute_result",
          "data": {
            "text/plain": [
              "[0, 6, 7, 9, 0, 3, 7, 7]"
            ]
          },
          "metadata": {},
          "execution_count": 5
        }
      ]
    },
    {
      "cell_type": "code",
      "source": [
        "import matplotlib.pyplot as plt\n",
        "\n",
        "notas_matematica = ['Matemática',8,7,6,6,7,7,8,10]\n",
        "notas_portugues = ['Português',9,9,9,8,5,6,8,5]\n",
        "notas_geografia = ['Geografia',10,10,6,7,7,7,8,7]\n",
        "\n",
        "notas = [notas_matematica, notas_portugues, notas_geografia]"
      ],
      "metadata": {
        "id": "1kpW00o9yP4B"
      },
      "execution_count": null,
      "outputs": []
    },
    {
      "cell_type": "code",
      "source": [
        "for nota in notas:\n",
        "\n",
        "  x = list(range(1, 9))\n",
        "  y = nota[1:]\n",
        "\n",
        "  plt.figure()\n",
        "  plt.plot(x, y, marker = 'o')\n",
        "  plt.xlabel('Provas')\n",
        "  plt.ylabel('Notas')\n",
        "  plt.show()"
      ],
      "metadata": {
        "colab": {
          "base_uri": "https://localhost:8080/",
          "height": 1000
        },
        "id": "cONrtw6Wy2NA",
        "outputId": "83afa064-b117-47f1-dd75-66ebbeb89cdb"
      },
      "execution_count": null,
      "outputs": [
        {
          "output_type": "display_data",
          "data": {
            "text/plain": [
              "<Figure size 640x480 with 1 Axes>"
            ],
            "image/png": "[encoded data removed]"
          },
          "metadata": {}
        },
        {
          "output_type": "display_data",
          "data": {
            "text/plain": [
              "<Figure size 640x480 with 1 Axes>"
            ],
            "image/png": "[encoded data removed]"
          },
          "metadata": {}
        },
        {
          "output_type": "display_data",
          "data": {
            "text/plain": [
              "<Figure size 640x480 with 1 Axes>"
            ],
            "image/png": "[encoded data removed]"
          },
          "metadata": {}
        }
      ]
    },
    {
      "cell_type": "markdown",
      "source": [
        "# Matplotlib"
      ],
      "metadata": {
        "id": "3unI1ff3qZRT"
      }
    },
    {
      "cell_type": "code",
      "source": [
        "import matplotlib.pyplot as plt #IMPORTAÇÃO DA NOSSA BIBLIOTECA JUNTO DO MÓDULO RESPONSÁVEL POR GERAR GRÁFICOS #\"as plt\" = estamos definindo um apelido para a biblioteca"
      ],
      "metadata": {
        "id": "6i7i5HEcqdf5"
      },
      "execution_count": null,
      "outputs": []
    },
    {
      "cell_type": "code",
      "source": [
        "x = list(range(1,9)) # Irá gerar 8 números no eixo x do grafico\n",
        "y = notas_matematica # ira gerar a coluna no eixo y com as notas do aluno\n",
        "\n",
        "plt.plot(x, y ) # Estamos plotando nosso gráfico\n",
        "plt.plot(x, y, marker= 'o') #Adicionamos pontos para determinação de cada gráfico\n",
        "plt.title('Notas de matematica') # Adicionando titulo ao nosso gráfico\n",
        "plt.xlabel(\"Provas\") # Adicionando o nome a nosso eixo x\n",
        "plt.ylabel(\"Notas\") # Adicionando o nome a nosso eixo y\n",
        "plt.show() #Foi retirado os detalhes gerados no nosso grafico"
      ],
      "metadata": {
        "colab": {
          "base_uri": "https://localhost:8080/",
          "height": 472
        },
        "id": "E5Q9wophrXNR",
        "outputId": "fe6ab3b5-5914-46d5-8000-82a6e2d53854"
      },
      "execution_count": null,
      "outputs": [
        {
          "output_type": "display_data",
          "data": {
            "text/plain": [
              "<Figure size 640x480 with 1 Axes>"
            ],
            "image/png": "[encoded data removed]"
          },
          "metadata": {}
        }
      ]
    },
    {
      "cell_type": "markdown",
      "source": [
        "Escolher o que ele quer mostrar e passar;\n",
        "Existe outras bibliotecas além do matplot;"
      ],
      "metadata": {
        "id": "ZQ_t41_QuMNa"
      }
    }
  ]
}